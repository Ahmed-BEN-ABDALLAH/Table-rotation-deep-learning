{
  "nbformat": 4,
  "nbformat_minor": 0,
  "metadata": {
    "colab": {
      "name": "rotation_tableau_classifier.ipynb",
      "provenance": [],
      "collapsed_sections": [],
      "machine_shape": "hm"
    },
    "kernelspec": {
      "name": "python3",
      "display_name": "Python 3"
    },
    "accelerator": "GPU"
  },
  "cells": [
    {
      "cell_type": "code",
      "metadata": {
        "id": "jBQyHuecDqRX",
        "colab_type": "code",
        "colab": {}
      },
      "source": [
        "import os\n",
        "from PIL import Image\n",
        "from google.colab.patches import cv2_imshow\n",
        "import cv2\n",
        "import numpy as np\n",
        "def loop_images(input_directory):\n",
        "  for element in os.listdir(input_directory):\n",
        "      if element.endswith('.png'):\n",
        "          print(element)\n",
        "          import cv2\n",
        "\n",
        "          img = cv2.imread(input_directory+\"/\"+element)\n",
        " \n",
        "\n",
        "          print(img.shape)\n",
        "          # (225, 400, 3)\n",
        "          ##right\n",
        "          img_rotate_90_clockwise = cv2.rotate(img, cv2.ROTATE_90_CLOCKWISE)\n",
        "          cv2.imwrite('right/'+element, img_rotate_90_clockwise)\n",
        "         \n",
        "\n",
        "          ##left\n",
        "          img_rotate_90_counterclockwise = cv2.rotate(img, cv2.ROTATE_90_COUNTERCLOCKWISE)\n",
        "          cv2.imwrite('left/'+element, img_rotate_90_counterclockwise)\n",
        "         \n",
        "          \n",
        "          \n",
        "          #upside_down\n",
        "          img_rotate_180 = cv2.rotate(img, cv2.ROTATE_180)\n",
        "          cv2.imwrite('not_straight/'+element, img_rotate_180)\n",
        "          \n"
      ],
      "execution_count": 0,
      "outputs": []
    },
    {
      "cell_type": "code",
      "metadata": {
        "id": "FQrZ6690_UiP",
        "colab_type": "code",
        "colab": {}
      },
      "source": [
        "# !mkdir not_straight\n",
        "# !mkdir right\n",
        "# !mkdir left\n",
        "\n"
      ],
      "execution_count": 0,
      "outputs": []
    },
    {
      "cell_type": "code",
      "metadata": {
        "id": "CocDU1zlSOnR",
        "colab_type": "code",
        "colab": {}
      },
      "source": [
        "#  pip install scikit-learn==0.23.0"
      ],
      "execution_count": 0,
      "outputs": []
    },
    {
      "cell_type": "code",
      "metadata": {
        "id": "aTMWroiGZhPV",
        "colab_type": "code",
        "outputId": "6ff934b2-fca8-42dc-865e-e5655900ba4f",
        "colab": {
          "base_uri": "https://localhost:8080/",
          "height": 731
        }
      },
      "source": [
        "loop_images('')"
      ],
      "execution_count": 0,
      "outputs": [
        {
          "output_type": "stream",
          "text": [
            "F23-VLAP-PI-3311-0018 DCN Rev.01.pdfpdf26.png\n",
            "(3400, 3306, 3)\n",
            "F23-VLAP-PI-3311-0018 DCN Rev.01.pdfpdf24.png\n",
            "(3400, 3306, 3)\n",
            "F23-VLAP-PI-3311-0018 DCN Rev.01.pdfpdf9.png\n",
            "(3400, 3306, 3)\n",
            "F23-VLAP-PI-3311-0018 DCN Rev.01.pdfpdf21.png\n",
            "(3400, 3306, 3)\n",
            "F23-VLAP-PI-3311-0018 DCN Rev.01.pdfpdf18.png\n",
            "(3400, 3306, 3)\n",
            "F23-VLAP-PI-3311-0018 DCN Rev.01.pdfpdf23.png\n",
            "(3400, 3306, 3)\n",
            "F23-VLAP-PI-3311-0018 DCN Rev.01.pdfpdf25.png\n",
            "(3400, 3306, 3)\n",
            "F23-VLAP-PI-3311-0018 DCN Rev.01.pdfpdf12.png\n",
            "(3400, 3306, 3)\n",
            "F23-VLAP-PI-3311-0018 DCN Rev.01.pdfpdf15.png\n",
            "(3400, 3306, 3)\n",
            "F23-VLAP-PI-3311-0018 DCN Rev.01.pdfpdf14.png\n",
            "(3400, 3306, 3)\n",
            "F23-VLAP-PI-3311-0018 DCN Rev.01.pdfpdf13.png\n",
            "(3400, 3306, 3)\n",
            "F28-DRA-EA-4025-0001-07C Nav-Aids Layout.pdfpdf0.png\n",
            "(2340, 3310, 3)\n",
            "F23-VLAP-PI-3311-0018 DCN Rev.01.pdfpdf10.png\n",
            "(3400, 3306, 3)\n",
            "F23-VLAP-PI-3311-0018 DCN Rev.01.pdfpdf8.png\n",
            "(3400, 3306, 3)\n",
            "F23-VLAP-PI-3311-0018 DCN Rev.01.pdfpdf16.png\n",
            "(3400, 3306, 3)\n",
            "F23-VLAP-PI-3311-0018 DCN Rev.01.pdfpdf11.png\n",
            "(3400, 3306, 3)\n",
            "F23-VLAP-PI-3311-0018 DCN Rev.01.pdfpdf7.png\n",
            "(3400, 3306, 3)\n",
            "F23-VLAP-PI-3311-0018 DCN Rev.01.pdfpdf20.png\n",
            "(3400, 3306, 3)\n",
            "F23-VLAP-PI-3311-0018 DCN Rev.01.pdfpdf17.png\n",
            "(3400, 3306, 3)\n",
            "F23-VLAP-PI-3311-0018 DCN Rev.01.pdfpdf19.png\n",
            "(3400, 3306, 3)\n",
            "F23-VLAP-PI-3311-0018 DCN Rev.01.pdfpdf22.png\n",
            "(3400, 3306, 3)\n"
          ],
          "name": "stdout"
        }
      ]
    },
    {
      "cell_type": "code",
      "metadata": {
        "id": "K5WbPvu7aGwa",
        "colab_type": "code",
        "outputId": "331e2d6a-cfce-45d1-d630-4430777fe4ad",
        "colab": {
          "base_uri": "https://localhost:8080/",
          "height": 306
        }
      },
      "source": [
        "!pip3 install resnet"
      ],
      "execution_count": 0,
      "outputs": [
        {
          "output_type": "stream",
          "text": [
            "Collecting resnet\n",
            "  Downloading https://files.pythonhosted.org/packages/c2/5b/1a89d31126c50cea7b29db3772a00862fa72b54f0970032766c914091ee0/resnet-0.1.tar.gz\n",
            "Requirement already satisfied: keras>=2.0 in /usr/local/lib/python3.6/dist-packages (from resnet) (2.3.1)\n",
            "Requirement already satisfied: numpy>=1.9.1 in /usr/local/lib/python3.6/dist-packages (from keras>=2.0->resnet) (1.18.4)\n",
            "Requirement already satisfied: scipy>=0.14 in /usr/local/lib/python3.6/dist-packages (from keras>=2.0->resnet) (1.4.1)\n",
            "Requirement already satisfied: pyyaml in /usr/local/lib/python3.6/dist-packages (from keras>=2.0->resnet) (3.13)\n",
            "Requirement already satisfied: h5py in /usr/local/lib/python3.6/dist-packages (from keras>=2.0->resnet) (2.10.0)\n",
            "Requirement already satisfied: keras-preprocessing>=1.0.5 in /usr/local/lib/python3.6/dist-packages (from keras>=2.0->resnet) (1.1.2)\n",
            "Requirement already satisfied: six>=1.9.0 in /usr/local/lib/python3.6/dist-packages (from keras>=2.0->resnet) (1.12.0)\n",
            "Requirement already satisfied: keras-applications>=1.0.6 in /usr/local/lib/python3.6/dist-packages (from keras>=2.0->resnet) (1.0.8)\n",
            "Building wheels for collected packages: resnet\n",
            "  Building wheel for resnet (setup.py) ... \u001b[?25l\u001b[?25hdone\n",
            "  Created wheel for resnet: filename=resnet-0.1-cp36-none-any.whl size=10044 sha256=389cf9c1160bf67f83b73b86a39fae417e6e03590c0165b4bc1fc6fd284d6ad3\n",
            "  Stored in directory: /root/.cache/pip/wheels/f6/15/ce/e3fe2b3a504698765a1b2dfb05ed4a91fcc0f38c8e57568658\n",
            "Successfully built resnet\n",
            "Installing collected packages: resnet\n",
            "Successfully installed resnet-0.1\n"
          ],
          "name": "stdout"
        }
      ]
    },
    {
      "cell_type": "code",
      "metadata": {
        "id": "uh_uRaEValFV",
        "colab_type": "code",
        "outputId": "40874913-8b11-49e8-86d9-032837946ab3",
        "colab": {
          "base_uri": "https://localhost:8080/",
          "height": 153
        }
      },
      "source": [
        "pip install keras"
      ],
      "execution_count": 0,
      "outputs": [
        {
          "output_type": "stream",
          "text": [
            "Requirement already satisfied: keras in /usr/local/lib/python3.6/dist-packages (2.3.1)\n",
            "Requirement already satisfied: keras-preprocessing>=1.0.5 in /usr/local/lib/python3.6/dist-packages (from keras) (1.1.2)\n",
            "Requirement already satisfied: six>=1.9.0 in /usr/local/lib/python3.6/dist-packages (from keras) (1.12.0)\n",
            "Requirement already satisfied: pyyaml in /usr/local/lib/python3.6/dist-packages (from keras) (3.13)\n",
            "Requirement already satisfied: numpy>=1.9.1 in /usr/local/lib/python3.6/dist-packages (from keras) (1.18.4)\n",
            "Requirement already satisfied: keras-applications>=1.0.6 in /usr/local/lib/python3.6/dist-packages (from keras) (1.0.8)\n",
            "Requirement already satisfied: h5py in /usr/local/lib/python3.6/dist-packages (from keras) (2.10.0)\n",
            "Requirement already satisfied: scipy>=0.14 in /usr/local/lib/python3.6/dist-packages (from keras) (1.4.1)\n"
          ],
          "name": "stdout"
        }
      ]
    },
    {
      "cell_type": "markdown",
      "metadata": {
        "id": "Ao8xYHwkZjrM",
        "colab_type": "text"
      },
      "source": [
        "**STARTING Classification**"
      ]
    },
    {
      "cell_type": "code",
      "metadata": {
        "id": "-oe52-DhydvK",
        "colab_type": "code",
        "outputId": "8518feb9-d20f-456e-d4f0-430505e1f90e",
        "colab": {
          "base_uri": "https://localhost:8080/",
          "height": 122
        }
      },
      "source": [
        "from google.colab import drive\n",
        "\n",
        "drive.mount('/content/drive')\n"
      ],
      "execution_count": 0,
      "outputs": [
        {
          "output_type": "stream",
          "text": [
            "Go to this URL in a browser: https://accounts.google.com/o/oauth2/auth?client_id=947318989803-6bn6qk8qdgf4n4g3pfee6491hc0brc4i.apps.googleusercontent.com&redirect_uri=urn%3aietf%3awg%3aoauth%3a2.0%3aoob&response_type=code&scope=email%20https%3a%2f%2fwww.googleapis.com%2fauth%2fdocs.test%20https%3a%2f%2fwww.googleapis.com%2fauth%2fdrive%20https%3a%2f%2fwww.googleapis.com%2fauth%2fdrive.photos.readonly%20https%3a%2f%2fwww.googleapis.com%2fauth%2fpeopleapi.readonly\n",
            "\n",
            "Enter your authorization code:\n",
            "··········\n",
            "Mounted at /content/drive\n"
          ],
          "name": "stdout"
        }
      ]
    },
    {
      "cell_type": "code",
      "metadata": {
        "id": "OOcQAv1TzMl-",
        "colab_type": "code",
        "outputId": "27e41ecd-52fe-40f0-cc42-b5c88ed6342f",
        "colab": {
          "base_uri": "https://localhost:8080/",
          "height": 34
        }
      },
      "source": [
        "cd /content/drive/My Drive/rotation_tableau/"
      ],
      "execution_count": 0,
      "outputs": [
        {
          "output_type": "stream",
          "text": [
            "/content/drive/My Drive/rotation_tableau\n"
          ],
          "name": "stdout"
        }
      ]
    },
    {
      "cell_type": "code",
      "metadata": {
        "id": "RCZ3puDPEoKH",
        "colab_type": "code",
        "outputId": "9dc837d0-05af-439a-d58d-0d8089900c4a",
        "colab": {
          "base_uri": "https://localhost:8080/",
          "height": 34
        }
      },
      "source": [
        "%ls"
      ],
      "execution_count": 0,
      "outputs": [
        {
          "output_type": "stream",
          "text": [
            "\u001b[0m\u001b[01;34mleft\u001b[0m/  \u001b[01;34mnot_straight\u001b[0m/  \u001b[01;34mright\u001b[0m/  \u001b[01;34mstraight\u001b[0m/  straight_table.zip\n"
          ],
          "name": "stdout"
        }
      ]
    },
    {
      "cell_type": "code",
      "metadata": {
        "id": "tRD6rwXD7HSM",
        "colab_type": "code",
        "colab": {}
      },
      "source": [
        "!unzip straight_table.zip"
      ],
      "execution_count": 0,
      "outputs": []
    },
    {
      "cell_type": "code",
      "metadata": {
        "id": "_ETnpcPIDIFo",
        "colab_type": "code",
        "outputId": "46bee1b2-71a2-4357-9eb9-7ffb6fa4bda4",
        "colab": {
          "base_uri": "https://localhost:8080/",
          "height": 34
        }
      },
      "source": [
        "cd ../test"
      ],
      "execution_count": 0,
      "outputs": [
        {
          "output_type": "stream",
          "text": [
            "/content/drive/My Drive/rotation_tableau/test\n"
          ],
          "name": "stdout"
        }
      ]
    },
    {
      "cell_type": "code",
      "metadata": {
        "id": "aQaQc8s08E3Q",
        "colab_type": "code",
        "outputId": "21869d8a-4b84-484a-815c-788c3cc158e0",
        "colab": {
          "base_uri": "https://localhost:8080/",
          "height": 1000
        }
      },
      "source": [
        "loop_images('straight')"
      ],
      "execution_count": 0,
      "outputs": [
        {
          "output_type": "stream",
          "text": [
            "1029.png\n",
            "(2339, 1653, 3)\n",
            "1030.png\n",
            "(2339, 1653, 3)\n",
            "1031.png\n",
            "(2339, 1653, 3)\n",
            "1032.png\n",
            "(2339, 1653, 3)\n",
            "1037.png\n",
            "(2339, 1653, 3)\n",
            "1172.png\n",
            "(1653, 2339, 3)\n",
            "1173.png\n",
            "(1653, 2339, 3)\n",
            "1174.png\n",
            "(1653, 2339, 3)\n",
            "194.png\n",
            "(2339, 1653, 3)\n",
            "195.png\n",
            "(2339, 1653, 3)\n",
            "196.png\n",
            "(2339, 1653, 3)\n",
            "197.png\n",
            "(2339, 1653, 3)\n",
            "201.png\n",
            "(2339, 1653, 3)\n",
            "202.png\n",
            "(2339, 1653, 3)\n",
            "203.png\n",
            "(2339, 1653, 3)\n",
            "260.png\n",
            "(1654, 2339, 3)\n",
            "261.png\n",
            "(1654, 2339, 3)\n",
            "262.png\n",
            "(1654, 2339, 3)\n",
            "372.png\n",
            "(3309, 2339, 3)\n",
            "373.png\n",
            "(3309, 2339, 3)\n",
            "374.png\n",
            "(3309, 2339, 3)\n",
            "418.png\n",
            "(2339, 3309, 3)\n",
            "419.png\n",
            "(2339, 3309, 3)\n",
            "420.png\n",
            "(2339, 3309, 3)\n",
            "421.png\n",
            "(2339, 3309, 3)\n",
            "422.png\n",
            "(2339, 3309, 3)\n",
            "519.png\n",
            "(2339, 1654, 3)\n",
            "520.png\n",
            "(2339, 1654, 3)\n",
            "521.png\n",
            "(2339, 1654, 3)\n",
            "522.png\n",
            "(2339, 1654, 3)\n",
            "523.png\n",
            "(2339, 1654, 3)\n",
            "524.png\n",
            "(2339, 1654, 3)\n",
            "525.png\n",
            "(2339, 1654, 3)\n",
            "529.png\n",
            "(2339, 1654, 3)\n",
            "936.png\n",
            "(1664, 2338, 3)\n",
            "937.png\n",
            "(1664, 2338, 3)\n",
            "939.png\n",
            "(1664, 2338, 3)\n",
            "940.png\n",
            "(1664, 2338, 3)\n",
            "985.png\n",
            "(2339, 1653, 3)\n",
            "986.png\n",
            "(2339, 1653, 3)\n"
          ],
          "name": "stdout"
        }
      ]
    },
    {
      "cell_type": "code",
      "metadata": {
        "id": "5dmgLA_F3f52",
        "colab_type": "code",
        "colab": {}
      },
      "source": [
        "import numpy as np\n",
        "import pandas as pd\n",
        "\n",
        "import matplotlib.pyplot as plt\n",
        "%matplotlib inline \n",
        "\n",
        "import cv2\n",
        "\n",
        "import os"
      ],
      "execution_count": 0,
      "outputs": []
    },
    {
      "cell_type": "code",
      "metadata": {
        "id": "8S3i38Z_7uvm",
        "colab_type": "code",
        "colab": {}
      },
      "source": [
        "# Fixed for our Cats & Dogs classes\n",
        "NUM_CLASSES = 4\n",
        "\n",
        "# Fixed for Cats & Dogs color images\n",
        "CHANNELS = 3\n",
        "\n",
        "#relu\n",
        "IMAGE_RESIZE = 600\n",
        "RESNET50_POOLING_AVERAGE = 'avg'\n",
        "DENSE_LAYER_ACTIVATION = 'softmax'\n",
        "OBJECTIVE_FUNCTION = 'categorical_crossentropy'\n",
        "\n",
        "# Common accuracy metric for all outputs, but can use different metrics for different output\n",
        "LOSS_METRICS = ['accuracy']\n",
        "\n",
        "# EARLY_STOP_PATIENCE must be < NUM_EPOCHS\n",
        "NUM_EPOCHS = 30\n",
        "EARLY_STOP_PATIENCE = NUM_EPOCHS\n",
        "\n",
        "# These steps value should be proper FACTOR of no.-of-images in train & valid folders respectively\n",
        "# Training images processed in each step would be no.-of-train-images / STEPS_PER_EPOCH_TRAINING \n",
        "STEPS_PER_EPOCH_TRAINING = 15\n",
        "STEPS_PER_EPOCH_VALIDATION = 10\n",
        "\n",
        "# These steps value should be proper FACTOR of no.-of-images in train & valid folders respectively\n",
        "# NOTE that these BATCH* are for Keras ImageDataGenerator batching to fill epoch step input\n",
        "BATCH_SIZE_TRAINING = 10\n",
        "BATCH_SIZE_VALIDATION = 30\n",
        "\n",
        "# Using 1 to easily manage mapping between test_generator & prediction for submission preparation\n",
        "BATCH_SIZE_TESTING = 1"
      ],
      "execution_count": 0,
      "outputs": []
    },
    {
      "cell_type": "code",
      "metadata": {
        "id": "3ebbvtWrZ796",
        "colab_type": "code",
        "colab": {}
      },
      "source": [
        "from keras.applications import ResNet50 \n",
        "from keras.models import Sequential\n",
        "from keras.layers import Dense\n",
        "from keras.layers import Dropout\n"
      ],
      "execution_count": 0,
      "outputs": []
    },
    {
      "cell_type": "code",
      "metadata": {
        "id": "ZbWAeqgqnAG4",
        "colab_type": "code",
        "colab": {}
      },
      "source": [
        "#mkdir working"
      ],
      "execution_count": 0,
      "outputs": []
    },
    {
      "cell_type": "code",
      "metadata": {
        "id": "T33ZMKMpkpbe",
        "colab_type": "code",
        "outputId": "102413c2-f746-4c6d-b99d-fd521d06ca51",
        "colab": {
          "base_uri": "https://localhost:8080/",
          "height": 34
        }
      },
      "source": [
        "cd .."
      ],
      "execution_count": 0,
      "outputs": [
        {
          "output_type": "stream",
          "text": [
            "/content/drive/My Drive/rotation_tableau\n"
          ],
          "name": "stdout"
        }
      ]
    },
    {
      "cell_type": "code",
      "metadata": {
        "id": "ceFWv1aubip6",
        "colab_type": "code",
        "colab": {}
      },
      "source": [
        "resnet_weights_path = 'resnet50/resnet50_weights_tf_dim_ordering_tf_kernels_notop.h5'"
      ],
      "execution_count": 0,
      "outputs": []
    },
    {
      "cell_type": "code",
      "metadata": {
        "id": "vl7IK-VvaAMS",
        "colab_type": "code",
        "colab": {}
      },
      "source": [
        "#Still not talking about our train/test data or any pre-processing.\n",
        "from keras.regularizers import l2\n",
        "model = Sequential()\n",
        "\n",
        "# 1st layer as the lumpsum weights from resnet50_weights_tf_dim_ordering_tf_kernels_notop.h5\n",
        "# NOTE that this layer will be set below as NOT TRAINABLE, i.e., use it as is\n",
        "model.add(ResNet50(include_top = False, pooling = RESNET50_POOLING_AVERAGE, weights = resnet_weights_path))\n",
        "\n",
        "# 2nd layer as Dense for 2-class classification, i.e., dog or cat using SoftMax activation\n",
        "model.add(Dropout(0.2))\n",
        "model.add(Dense(1024, activation=\"relu\"))\n",
        "\n",
        "model.add(Dropout(0.2))\n",
        "\n",
        "model.add(Dense(NUM_CLASSES, activation = DENSE_LAYER_ACTIVATION))\n",
        "\n",
        "# Say not to train first layer (ResNet) model as it is already trained\n",
        "# model.layers[0].trainable = False\n",
        "\n",
        "\n",
        "# un-freeze the BatchNorm layers\n",
        "for layer in model.layers:\n",
        "    if \"BatchNormalization\" in layer.__class__.__name__:\n",
        "        layer.trainable = True\n",
        "\n"
      ],
      "execution_count": 0,
      "outputs": []
    },
    {
      "cell_type": "code",
      "metadata": {
        "id": "bOa4V9Noa26j",
        "colab_type": "code",
        "outputId": "76a6d98a-b75d-4b69-9ded-85b6a87aefea",
        "colab": {
          "base_uri": "https://localhost:8080/",
          "height": 323
        }
      },
      "source": [
        "model.summary()\n"
      ],
      "execution_count": 0,
      "outputs": [
        {
          "output_type": "stream",
          "text": [
            "Model: \"sequential_4\"\n",
            "_________________________________________________________________\n",
            "Layer (type)                 Output Shape              Param #   \n",
            "=================================================================\n",
            "resnet50 (Model)             (None, 2048)              23587712  \n",
            "_________________________________________________________________\n",
            "dropout_5 (Dropout)          (None, 2048)              0         \n",
            "_________________________________________________________________\n",
            "dense_5 (Dense)              (None, 1024)              2098176   \n",
            "_________________________________________________________________\n",
            "dropout_6 (Dropout)          (None, 1024)              0         \n",
            "_________________________________________________________________\n",
            "dense_6 (Dense)              (None, 4)                 4100      \n",
            "=================================================================\n",
            "Total params: 25,689,988\n",
            "Trainable params: 25,636,868\n",
            "Non-trainable params: 53,120\n",
            "_________________________________________________________________\n"
          ],
          "name": "stdout"
        }
      ]
    },
    {
      "cell_type": "code",
      "metadata": {
        "id": "b15if520lFch",
        "colab_type": "code",
        "colab": {}
      },
      "source": [
        "from keras import optimizers\n",
        "\n",
        "sgd = optimizers.SGD(lr = 0.001, decay = 1e-6, momentum = 0.9, nesterov = True)\n",
        "model.compile(optimizer = sgd, loss = OBJECTIVE_FUNCTION, metrics = LOSS_METRICS)"
      ],
      "execution_count": 0,
      "outputs": []
    },
    {
      "cell_type": "code",
      "metadata": {
        "id": "7LO4PbpMmDza",
        "colab_type": "code",
        "outputId": "1d8bbd9a-f221-4203-d978-5b3433f919d9",
        "colab": {
          "base_uri": "https://localhost:8080/",
          "height": 51
        }
      },
      "source": [
        "from keras.applications.resnet50 import preprocess_input\n",
        "from keras.preprocessing.image import ImageDataGenerator\n",
        "\n",
        "image_size = IMAGE_RESIZE\n",
        "\n",
        "# preprocessing_function is applied on each image but only after re-sizing & augmentation (resize => augment => pre-process)\n",
        "# Each of the keras.application.resnet* preprocess_input MOSTLY mean BATCH NORMALIZATION (applied on each batch) stabilize the inputs to nonlinear activation functions\n",
        "# Batch Normalization helps in faster convergence\n",
        "data_generator = ImageDataGenerator(preprocessing_function=preprocess_input,rotation_range=0)\n",
        "\n",
        "# flow_From_directory generates batches of augmented data (where augmentation can be color conversion, etc)\n",
        "# Both train & valid folders must have NUM_CLASSES sub-folders\n",
        "train_generator = data_generator.flow_from_directory(\n",
        "        'train/',\n",
        "        target_size=(image_size, image_size),\n",
        "        batch_size=BATCH_SIZE_TRAINING,\n",
        "        class_mode='categorical',\n",
        "      shuffle=True)\n",
        "\n",
        "validation_generator = data_generator.flow_from_directory(\n",
        "        'test/',\n",
        "        target_size=(image_size, image_size),\n",
        "        batch_size=BATCH_SIZE_VALIDATION,\n",
        "        class_mode='categorical',\n",
        "        shuffle=False) "
      ],
      "execution_count": 0,
      "outputs": [
        {
          "output_type": "stream",
          "text": [
            "Found 768 images belonging to 4 classes.\n",
            "Found 160 images belonging to 4 classes.\n"
          ],
          "name": "stdout"
        }
      ]
    },
    {
      "cell_type": "code",
      "metadata": {
        "id": "XOmazR6imgSz",
        "colab_type": "code",
        "outputId": "d34eb920-1670-4668-a726-891f9b11134a",
        "colab": {
          "base_uri": "https://localhost:8080/",
          "height": 34
        }
      },
      "source": [
        "(BATCH_SIZE_TRAINING, len(train_generator), BATCH_SIZE_VALIDATION, len(validation_generator))"
      ],
      "execution_count": 0,
      "outputs": [
        {
          "output_type": "execute_result",
          "data": {
            "text/plain": [
              "(10, 77, 30, 6)"
            ]
          },
          "metadata": {
            "tags": []
          },
          "execution_count": 47
        }
      ]
    },
    {
      "cell_type": "code",
      "metadata": {
        "id": "mqtn3jakmm_v",
        "colab_type": "code",
        "colab": {}
      },
      "source": [
        "# Early stopping & checkpointing the best model in ../working dir & restoring that as our model for prediction\n",
        "from keras.callbacks import EarlyStopping, ModelCheckpoint\n",
        "\n",
        "cb_early_stopper = EarlyStopping(monitor = 'val_loss', patience = EARLY_STOP_PATIENCE)\n",
        "cb_checkpointer = ModelCheckpoint(filepath = 'working/best.hdf5', monitor = 'val_loss', save_best_only = True, mode = 'auto')"
      ],
      "execution_count": 0,
      "outputs": []
    },
    {
      "cell_type": "code",
      "metadata": {
        "id": "BHTlvCkKTYK4",
        "colab_type": "code",
        "colab": {}
      },
      "source": [
        "from scipy.special import comb, logsumexp"
      ],
      "execution_count": 0,
      "outputs": []
    },
    {
      "cell_type": "code",
      "metadata": {
        "id": "NgWI8wmRzvx9",
        "colab_type": "code",
        "outputId": "a3f76f4f-5519-48fb-9908-4d0497e74cdf",
        "colab": {
          "base_uri": "https://localhost:8080/",
          "height": 170
        }
      },
      "source": [
        "from sklearn.model_selection import ParameterGrid\n",
        "param_grid = {'epochs': [5, 10, 15], 'steps_per_epoch' : [10, 20, 50]}\n",
        "# grid=GridSearchCV.ParameterGrid(param_grid)\n",
        "\n",
        "grid = ParameterGrid(param_grid)\n",
        "\n",
        "# Accumulate history of all permutations (may be for viewing trend) and keep watching for lowest val_loss as final model\n",
        "for params in grid:\n",
        "    print(params)"
      ],
      "execution_count": 0,
      "outputs": [
        {
          "output_type": "stream",
          "text": [
            "{'epochs': 5, 'steps_per_epoch': 10}\n",
            "{'epochs': 5, 'steps_per_epoch': 20}\n",
            "{'epochs': 5, 'steps_per_epoch': 50}\n",
            "{'epochs': 10, 'steps_per_epoch': 10}\n",
            "{'epochs': 10, 'steps_per_epoch': 20}\n",
            "{'epochs': 10, 'steps_per_epoch': 50}\n",
            "{'epochs': 15, 'steps_per_epoch': 10}\n",
            "{'epochs': 15, 'steps_per_epoch': 20}\n",
            "{'epochs': 15, 'steps_per_epoch': 50}\n"
          ],
          "name": "stdout"
        }
      ]
    },
    {
      "cell_type": "code",
      "metadata": {
        "id": "zqSN_o0Wmz6I",
        "colab_type": "code",
        "outputId": "845baf51-68c0-4e48-89b4-b3c5a241bc2a",
        "colab": {
          "base_uri": "https://localhost:8080/",
          "height": 1000
        }
      },
      "source": [
        "fit_history = model.fit_generator(\n",
        "        train_generator,\n",
        "        steps_per_epoch=STEPS_PER_EPOCH_TRAINING,\n",
        "        epochs = NUM_EPOCHS,\n",
        "        validation_data=validation_generator,\n",
        "        validation_steps=STEPS_PER_EPOCH_VALIDATION,\n",
        "        callbacks=[cb_checkpointer, cb_early_stopper]\n",
        ")\n",
        "model.load_weights(\"working/best.hdf5\")"
      ],
      "execution_count": 0,
      "outputs": [
        {
          "output_type": "stream",
          "text": [
            "Epoch 1/30\n",
            "15/15 [==============================] - 44s 3s/step - loss: 1.3359 - accuracy: 0.3133 - val_loss: 0.6468 - val_accuracy: 0.2857\n",
            "Epoch 2/30\n",
            "15/15 [==============================] - 28s 2s/step - loss: 1.0105 - accuracy: 0.4800 - val_loss: 1.4100 - val_accuracy: 0.2231\n",
            "Epoch 3/30\n",
            "15/15 [==============================] - 24s 2s/step - loss: 0.8083 - accuracy: 0.6333 - val_loss: 1.2886 - val_accuracy: 0.5038\n",
            "Epoch 4/30\n",
            "15/15 [==============================] - 24s 2s/step - loss: 0.7071 - accuracy: 0.6486 - val_loss: 0.8367 - val_accuracy: 0.4821\n",
            "Epoch 5/30\n",
            "15/15 [==============================] - 28s 2s/step - loss: 0.6269 - accuracy: 0.6800 - val_loss: 1.0858 - val_accuracy: 0.5577\n",
            "Epoch 6/30\n",
            "15/15 [==============================] - 25s 2s/step - loss: 0.5152 - accuracy: 0.8000 - val_loss: 0.4487 - val_accuracy: 0.6308\n",
            "Epoch 7/30\n",
            "15/15 [==============================] - 23s 2s/step - loss: 0.3808 - accuracy: 0.8649 - val_loss: 1.1539 - val_accuracy: 0.5714\n",
            "Epoch 8/30\n",
            "15/15 [==============================] - 27s 2s/step - loss: 0.3002 - accuracy: 0.9267 - val_loss: 0.4625 - val_accuracy: 0.7885\n",
            "Epoch 9/30\n",
            "15/15 [==============================] - 24s 2s/step - loss: 0.3469 - accuracy: 0.8800 - val_loss: 0.7408 - val_accuracy: 0.7577\n",
            "Epoch 10/30\n",
            "15/15 [==============================] - 23s 2s/step - loss: 0.1777 - accuracy: 0.9600 - val_loss: 0.5824 - val_accuracy: 0.8821\n",
            "Epoch 11/30\n",
            "15/15 [==============================] - 28s 2s/step - loss: 0.1678 - accuracy: 0.9533 - val_loss: 0.2788 - val_accuracy: 0.8269\n",
            "Epoch 12/30\n",
            "15/15 [==============================] - 24s 2s/step - loss: 0.1520 - accuracy: 0.9667 - val_loss: 0.1674 - val_accuracy: 0.8577\n",
            "Epoch 13/30\n",
            "15/15 [==============================] - 23s 2s/step - loss: 0.2378 - accuracy: 0.9333 - val_loss: 0.1686 - val_accuracy: 0.9571\n",
            "Epoch 14/30\n",
            "15/15 [==============================] - 27s 2s/step - loss: 0.1411 - accuracy: 0.9662 - val_loss: 0.1402 - val_accuracy: 0.9769\n",
            "Epoch 15/30\n",
            "15/15 [==============================] - 24s 2s/step - loss: 0.1221 - accuracy: 0.9667 - val_loss: 0.0719 - val_accuracy: 0.9769\n",
            "Epoch 16/30\n",
            "15/15 [==============================] - 24s 2s/step - loss: 0.0978 - accuracy: 0.9800 - val_loss: 0.3152 - val_accuracy: 0.9821\n",
            "Epoch 17/30\n",
            "15/15 [==============================] - 27s 2s/step - loss: 0.0630 - accuracy: 1.0000 - val_loss: 0.0324 - val_accuracy: 0.9846\n",
            "Epoch 18/30\n",
            "15/15 [==============================] - 24s 2s/step - loss: 0.0546 - accuracy: 0.9933 - val_loss: 0.0126 - val_accuracy: 0.9615\n",
            "Epoch 19/30\n",
            "15/15 [==============================] - 23s 2s/step - loss: 0.0569 - accuracy: 0.9867 - val_loss: 0.0694 - val_accuracy: 0.9536\n",
            "Epoch 20/30\n",
            "15/15 [==============================] - 27s 2s/step - loss: 0.1179 - accuracy: 0.9595 - val_loss: 0.0611 - val_accuracy: 0.9808\n",
            "Epoch 21/30\n",
            "15/15 [==============================] - 25s 2s/step - loss: 0.0710 - accuracy: 0.9933 - val_loss: 0.0465 - val_accuracy: 0.9692\n",
            "Epoch 22/30\n",
            "15/15 [==============================] - 23s 2s/step - loss: 0.0632 - accuracy: 0.9800 - val_loss: 0.2561 - val_accuracy: 0.9714\n",
            "Epoch 23/30\n",
            "15/15 [==============================] - 27s 2s/step - loss: 0.0850 - accuracy: 0.9800 - val_loss: 0.0865 - val_accuracy: 0.9731\n",
            "Epoch 24/30\n",
            "15/15 [==============================] - 24s 2s/step - loss: 0.0488 - accuracy: 1.0000 - val_loss: 0.0072 - val_accuracy: 0.9654\n",
            "Epoch 25/30\n",
            "15/15 [==============================] - 23s 2s/step - loss: 0.0396 - accuracy: 0.9797 - val_loss: 0.0533 - val_accuracy: 0.9786\n",
            "Epoch 26/30\n",
            "15/15 [==============================] - 28s 2s/step - loss: 0.0212 - accuracy: 1.0000 - val_loss: 0.0157 - val_accuracy: 0.9885\n",
            "Epoch 27/30\n",
            "15/15 [==============================] - 24s 2s/step - loss: 0.0269 - accuracy: 1.0000 - val_loss: 0.0627 - val_accuracy: 1.0000\n",
            "Epoch 28/30\n",
            "15/15 [==============================] - 23s 2s/step - loss: 0.0172 - accuracy: 1.0000 - val_loss: 0.0209 - val_accuracy: 0.9857\n",
            "Epoch 29/30\n",
            "15/15 [==============================] - 27s 2s/step - loss: 0.0258 - accuracy: 0.9932 - val_loss: 0.0806 - val_accuracy: 0.9923\n",
            "Epoch 30/30\n",
            "15/15 [==============================] - 24s 2s/step - loss: 0.0165 - accuracy: 1.0000 - val_loss: 0.0052 - val_accuracy: 0.9885\n"
          ],
          "name": "stdout"
        }
      ]
    },
    {
      "cell_type": "code",
      "metadata": {
        "id": "lyOyM4bgh8JD",
        "colab_type": "code",
        "outputId": "80c56116-a06c-43d2-e5d4-9369a8e8a483",
        "colab": {
          "base_uri": "https://localhost:8080/",
          "height": 34
        }
      },
      "source": [
        "validation_generator"
      ],
      "execution_count": 0,
      "outputs": [
        {
          "output_type": "execute_result",
          "data": {
            "text/plain": [
              "<keras.preprocessing.image.DirectoryIterator at 0x7f634e414c18>"
            ]
          },
          "metadata": {
            "tags": []
          },
          "execution_count": 247
        }
      ]
    },
    {
      "cell_type": "code",
      "metadata": {
        "id": "OpYaIfYsv4Uo",
        "colab_type": "code",
        "colab": {}
      },
      "source": [
        "validation_generator.reset()"
      ],
      "execution_count": 0,
      "outputs": []
    },
    {
      "cell_type": "code",
      "metadata": {
        "id": "zS7yqRh8nLUP",
        "colab_type": "code",
        "outputId": "240c5c96-359a-4a4c-a83f-85dd23a71e4d",
        "colab": {
          "base_uri": "https://localhost:8080/",
          "height": 436
        }
      },
      "source": [
        "pred = model.predict_generator(validation_generator, verbose = 1)\n",
        "predicted_class_indices = np.argmax(pred, axis = 1)\n",
        "\n",
        "labels = (validation_generator.class_indices)\n",
        "labels = dict((v,k) for k,v in labels.items())\n",
        "predictions = [labels[k] for k in predicted_class_indices]\n",
        "\n",
        "filenames=validation_generator.filenames\n",
        "results=pd.DataFrame({\"Filename\":filenames,\n",
        "                      \"Predictions\":predictions})\n",
        "results"
      ],
      "execution_count": 0,
      "outputs": [
        {
          "output_type": "stream",
          "text": [
            "6/6 [==============================] - 11s 2s/step\n"
          ],
          "name": "stdout"
        },
        {
          "output_type": "execute_result",
          "data": {
            "text/html": [
              "<div>\n",
              "<style scoped>\n",
              "    .dataframe tbody tr th:only-of-type {\n",
              "        vertical-align: middle;\n",
              "    }\n",
              "\n",
              "    .dataframe tbody tr th {\n",
              "        vertical-align: top;\n",
              "    }\n",
              "\n",
              "    .dataframe thead th {\n",
              "        text-align: right;\n",
              "    }\n",
              "</style>\n",
              "<table border=\"1\" class=\"dataframe\">\n",
              "  <thead>\n",
              "    <tr style=\"text-align: right;\">\n",
              "      <th></th>\n",
              "      <th>Filename</th>\n",
              "      <th>Predictions</th>\n",
              "    </tr>\n",
              "  </thead>\n",
              "  <tbody>\n",
              "    <tr>\n",
              "      <th>0</th>\n",
              "      <td>left/1029.png</td>\n",
              "      <td>left</td>\n",
              "    </tr>\n",
              "    <tr>\n",
              "      <th>1</th>\n",
              "      <td>left/1030.png</td>\n",
              "      <td>left</td>\n",
              "    </tr>\n",
              "    <tr>\n",
              "      <th>2</th>\n",
              "      <td>left/1031.png</td>\n",
              "      <td>left</td>\n",
              "    </tr>\n",
              "    <tr>\n",
              "      <th>3</th>\n",
              "      <td>left/1032.png</td>\n",
              "      <td>left</td>\n",
              "    </tr>\n",
              "    <tr>\n",
              "      <th>4</th>\n",
              "      <td>left/1037.png</td>\n",
              "      <td>left</td>\n",
              "    </tr>\n",
              "    <tr>\n",
              "      <th>...</th>\n",
              "      <td>...</td>\n",
              "      <td>...</td>\n",
              "    </tr>\n",
              "    <tr>\n",
              "      <th>155</th>\n",
              "      <td>straight/937.png</td>\n",
              "      <td>straight</td>\n",
              "    </tr>\n",
              "    <tr>\n",
              "      <th>156</th>\n",
              "      <td>straight/939.png</td>\n",
              "      <td>straight</td>\n",
              "    </tr>\n",
              "    <tr>\n",
              "      <th>157</th>\n",
              "      <td>straight/940.png</td>\n",
              "      <td>straight</td>\n",
              "    </tr>\n",
              "    <tr>\n",
              "      <th>158</th>\n",
              "      <td>straight/985.png</td>\n",
              "      <td>straight</td>\n",
              "    </tr>\n",
              "    <tr>\n",
              "      <th>159</th>\n",
              "      <td>straight/986.png</td>\n",
              "      <td>straight</td>\n",
              "    </tr>\n",
              "  </tbody>\n",
              "</table>\n",
              "<p>160 rows × 2 columns</p>\n",
              "</div>"
            ],
            "text/plain": [
              "             Filename Predictions\n",
              "0       left/1029.png        left\n",
              "1       left/1030.png        left\n",
              "2       left/1031.png        left\n",
              "3       left/1032.png        left\n",
              "4       left/1037.png        left\n",
              "..                ...         ...\n",
              "155  straight/937.png    straight\n",
              "156  straight/939.png    straight\n",
              "157  straight/940.png    straight\n",
              "158  straight/985.png    straight\n",
              "159  straight/986.png    straight\n",
              "\n",
              "[160 rows x 2 columns]"
            ]
          },
          "metadata": {
            "tags": []
          },
          "execution_count": 52
        }
      ]
    },
    {
      "cell_type": "code",
      "metadata": {
        "id": "omZ8h7ZMZTym",
        "colab_type": "code",
        "colab": {}
      },
      "source": [
        ""
      ],
      "execution_count": 0,
      "outputs": []
    },
    {
      "cell_type": "code",
      "metadata": {
        "id": "VMlGdbkGSFE3",
        "colab_type": "code",
        "outputId": "16492b4e-74d5-462e-9908-54b674484529",
        "colab": {
          "base_uri": "https://localhost:8080/",
          "height": 85
        }
      },
      "source": [
        "print('\\n# Evaluate on test data')\n",
        "ok = model.evaluate_generator(validation_generator, verbose = 1,)\n",
        "print('test loss, test acc:', ok)\n"
      ],
      "execution_count": 0,
      "outputs": [
        {
          "output_type": "stream",
          "text": [
            "\n",
            "# Evaluate on test data\n",
            "6/6 [==============================] - 27s 4s/step\n",
            "test loss, test acc: [0.18325020372867584, 0.8684210777282715]\n"
          ],
          "name": "stdout"
        }
      ]
    },
    {
      "cell_type": "code",
      "metadata": {
        "id": "m8ND2KW8n0jK",
        "colab_type": "code",
        "colab": {}
      },
      "source": [
        "pd.set_option('display.max_rows', None)\n",
        "pd.set_option('display.width', 200)"
      ],
      "execution_count": 0,
      "outputs": []
    },
    {
      "cell_type": "code",
      "metadata": {
        "id": "tRV433SQnz3x",
        "colab_type": "code",
        "outputId": "a5e875d0-dec2-472a-b067-2305387da141",
        "colab": {
          "base_uri": "https://localhost:8080/",
          "height": 1000
        }
      },
      "source": [
        "results"
      ],
      "execution_count": 0,
      "outputs": [
        {
          "output_type": "execute_result",
          "data": {
            "text/html": [
              "<div>\n",
              "<style scoped>\n",
              "    .dataframe tbody tr th:only-of-type {\n",
              "        vertical-align: middle;\n",
              "    }\n",
              "\n",
              "    .dataframe tbody tr th {\n",
              "        vertical-align: top;\n",
              "    }\n",
              "\n",
              "    .dataframe thead th {\n",
              "        text-align: right;\n",
              "    }\n",
              "</style>\n",
              "<table border=\"1\" class=\"dataframe\">\n",
              "  <thead>\n",
              "    <tr style=\"text-align: right;\">\n",
              "      <th></th>\n",
              "      <th>Filename</th>\n",
              "      <th>Predictions</th>\n",
              "    </tr>\n",
              "  </thead>\n",
              "  <tbody>\n",
              "    <tr>\n",
              "      <th>0</th>\n",
              "      <td>left/1029.png</td>\n",
              "      <td>left</td>\n",
              "    </tr>\n",
              "    <tr>\n",
              "      <th>1</th>\n",
              "      <td>left/1030.png</td>\n",
              "      <td>left</td>\n",
              "    </tr>\n",
              "    <tr>\n",
              "      <th>2</th>\n",
              "      <td>left/1031.png</td>\n",
              "      <td>left</td>\n",
              "    </tr>\n",
              "    <tr>\n",
              "      <th>3</th>\n",
              "      <td>left/1032.png</td>\n",
              "      <td>left</td>\n",
              "    </tr>\n",
              "    <tr>\n",
              "      <th>4</th>\n",
              "      <td>left/1037.png</td>\n",
              "      <td>left</td>\n",
              "    </tr>\n",
              "    <tr>\n",
              "      <th>5</th>\n",
              "      <td>left/1172.png</td>\n",
              "      <td>left</td>\n",
              "    </tr>\n",
              "    <tr>\n",
              "      <th>6</th>\n",
              "      <td>left/1173.png</td>\n",
              "      <td>left</td>\n",
              "    </tr>\n",
              "    <tr>\n",
              "      <th>7</th>\n",
              "      <td>left/1174.png</td>\n",
              "      <td>left</td>\n",
              "    </tr>\n",
              "    <tr>\n",
              "      <th>8</th>\n",
              "      <td>left/194.png</td>\n",
              "      <td>left</td>\n",
              "    </tr>\n",
              "    <tr>\n",
              "      <th>9</th>\n",
              "      <td>left/195.png</td>\n",
              "      <td>left</td>\n",
              "    </tr>\n",
              "    <tr>\n",
              "      <th>10</th>\n",
              "      <td>left/196.png</td>\n",
              "      <td>left</td>\n",
              "    </tr>\n",
              "    <tr>\n",
              "      <th>11</th>\n",
              "      <td>left/197.png</td>\n",
              "      <td>left</td>\n",
              "    </tr>\n",
              "    <tr>\n",
              "      <th>12</th>\n",
              "      <td>left/201.png</td>\n",
              "      <td>left</td>\n",
              "    </tr>\n",
              "    <tr>\n",
              "      <th>13</th>\n",
              "      <td>left/202.png</td>\n",
              "      <td>left</td>\n",
              "    </tr>\n",
              "    <tr>\n",
              "      <th>14</th>\n",
              "      <td>left/203.png</td>\n",
              "      <td>left</td>\n",
              "    </tr>\n",
              "    <tr>\n",
              "      <th>15</th>\n",
              "      <td>left/260.png</td>\n",
              "      <td>left</td>\n",
              "    </tr>\n",
              "    <tr>\n",
              "      <th>16</th>\n",
              "      <td>left/261.png</td>\n",
              "      <td>left</td>\n",
              "    </tr>\n",
              "    <tr>\n",
              "      <th>17</th>\n",
              "      <td>left/262.png</td>\n",
              "      <td>left</td>\n",
              "    </tr>\n",
              "    <tr>\n",
              "      <th>18</th>\n",
              "      <td>left/372.png</td>\n",
              "      <td>left</td>\n",
              "    </tr>\n",
              "    <tr>\n",
              "      <th>19</th>\n",
              "      <td>left/373.png</td>\n",
              "      <td>left</td>\n",
              "    </tr>\n",
              "    <tr>\n",
              "      <th>20</th>\n",
              "      <td>left/374.png</td>\n",
              "      <td>left</td>\n",
              "    </tr>\n",
              "    <tr>\n",
              "      <th>21</th>\n",
              "      <td>left/418.png</td>\n",
              "      <td>left</td>\n",
              "    </tr>\n",
              "    <tr>\n",
              "      <th>22</th>\n",
              "      <td>left/419.png</td>\n",
              "      <td>left</td>\n",
              "    </tr>\n",
              "    <tr>\n",
              "      <th>23</th>\n",
              "      <td>left/420.png</td>\n",
              "      <td>left</td>\n",
              "    </tr>\n",
              "    <tr>\n",
              "      <th>24</th>\n",
              "      <td>left/421.png</td>\n",
              "      <td>left</td>\n",
              "    </tr>\n",
              "    <tr>\n",
              "      <th>25</th>\n",
              "      <td>left/422.png</td>\n",
              "      <td>left</td>\n",
              "    </tr>\n",
              "    <tr>\n",
              "      <th>26</th>\n",
              "      <td>left/519.png</td>\n",
              "      <td>left</td>\n",
              "    </tr>\n",
              "    <tr>\n",
              "      <th>27</th>\n",
              "      <td>left/520.png</td>\n",
              "      <td>left</td>\n",
              "    </tr>\n",
              "    <tr>\n",
              "      <th>28</th>\n",
              "      <td>left/521.png</td>\n",
              "      <td>left</td>\n",
              "    </tr>\n",
              "    <tr>\n",
              "      <th>29</th>\n",
              "      <td>left/522.png</td>\n",
              "      <td>left</td>\n",
              "    </tr>\n",
              "    <tr>\n",
              "      <th>30</th>\n",
              "      <td>left/523.png</td>\n",
              "      <td>left</td>\n",
              "    </tr>\n",
              "    <tr>\n",
              "      <th>31</th>\n",
              "      <td>left/524.png</td>\n",
              "      <td>left</td>\n",
              "    </tr>\n",
              "    <tr>\n",
              "      <th>32</th>\n",
              "      <td>left/525.png</td>\n",
              "      <td>left</td>\n",
              "    </tr>\n",
              "    <tr>\n",
              "      <th>33</th>\n",
              "      <td>left/529.png</td>\n",
              "      <td>left</td>\n",
              "    </tr>\n",
              "    <tr>\n",
              "      <th>34</th>\n",
              "      <td>left/936.png</td>\n",
              "      <td>left</td>\n",
              "    </tr>\n",
              "    <tr>\n",
              "      <th>35</th>\n",
              "      <td>left/937.png</td>\n",
              "      <td>left</td>\n",
              "    </tr>\n",
              "    <tr>\n",
              "      <th>36</th>\n",
              "      <td>left/939.png</td>\n",
              "      <td>left</td>\n",
              "    </tr>\n",
              "    <tr>\n",
              "      <th>37</th>\n",
              "      <td>left/940.png</td>\n",
              "      <td>left</td>\n",
              "    </tr>\n",
              "    <tr>\n",
              "      <th>38</th>\n",
              "      <td>left/985.png</td>\n",
              "      <td>left</td>\n",
              "    </tr>\n",
              "    <tr>\n",
              "      <th>39</th>\n",
              "      <td>left/986.png</td>\n",
              "      <td>left</td>\n",
              "    </tr>\n",
              "    <tr>\n",
              "      <th>40</th>\n",
              "      <td>not_straight/1029.png</td>\n",
              "      <td>not_straight</td>\n",
              "    </tr>\n",
              "    <tr>\n",
              "      <th>41</th>\n",
              "      <td>not_straight/1030.png</td>\n",
              "      <td>not_straight</td>\n",
              "    </tr>\n",
              "    <tr>\n",
              "      <th>42</th>\n",
              "      <td>not_straight/1031.png</td>\n",
              "      <td>not_straight</td>\n",
              "    </tr>\n",
              "    <tr>\n",
              "      <th>43</th>\n",
              "      <td>not_straight/1032.png</td>\n",
              "      <td>not_straight</td>\n",
              "    </tr>\n",
              "    <tr>\n",
              "      <th>44</th>\n",
              "      <td>not_straight/1037.png</td>\n",
              "      <td>not_straight</td>\n",
              "    </tr>\n",
              "    <tr>\n",
              "      <th>45</th>\n",
              "      <td>not_straight/1172.png</td>\n",
              "      <td>not_straight</td>\n",
              "    </tr>\n",
              "    <tr>\n",
              "      <th>46</th>\n",
              "      <td>not_straight/1173.png</td>\n",
              "      <td>not_straight</td>\n",
              "    </tr>\n",
              "    <tr>\n",
              "      <th>47</th>\n",
              "      <td>not_straight/1174.png</td>\n",
              "      <td>not_straight</td>\n",
              "    </tr>\n",
              "    <tr>\n",
              "      <th>48</th>\n",
              "      <td>not_straight/194.png</td>\n",
              "      <td>not_straight</td>\n",
              "    </tr>\n",
              "    <tr>\n",
              "      <th>49</th>\n",
              "      <td>not_straight/195.png</td>\n",
              "      <td>not_straight</td>\n",
              "    </tr>\n",
              "    <tr>\n",
              "      <th>50</th>\n",
              "      <td>not_straight/196.png</td>\n",
              "      <td>not_straight</td>\n",
              "    </tr>\n",
              "    <tr>\n",
              "      <th>51</th>\n",
              "      <td>not_straight/197.png</td>\n",
              "      <td>straight</td>\n",
              "    </tr>\n",
              "    <tr>\n",
              "      <th>52</th>\n",
              "      <td>not_straight/201.png</td>\n",
              "      <td>not_straight</td>\n",
              "    </tr>\n",
              "    <tr>\n",
              "      <th>53</th>\n",
              "      <td>not_straight/202.png</td>\n",
              "      <td>not_straight</td>\n",
              "    </tr>\n",
              "    <tr>\n",
              "      <th>54</th>\n",
              "      <td>not_straight/203.png</td>\n",
              "      <td>not_straight</td>\n",
              "    </tr>\n",
              "    <tr>\n",
              "      <th>55</th>\n",
              "      <td>not_straight/260.png</td>\n",
              "      <td>not_straight</td>\n",
              "    </tr>\n",
              "    <tr>\n",
              "      <th>56</th>\n",
              "      <td>not_straight/261.png</td>\n",
              "      <td>not_straight</td>\n",
              "    </tr>\n",
              "    <tr>\n",
              "      <th>57</th>\n",
              "      <td>not_straight/262.png</td>\n",
              "      <td>not_straight</td>\n",
              "    </tr>\n",
              "    <tr>\n",
              "      <th>58</th>\n",
              "      <td>not_straight/372.png</td>\n",
              "      <td>not_straight</td>\n",
              "    </tr>\n",
              "    <tr>\n",
              "      <th>59</th>\n",
              "      <td>not_straight/373.png</td>\n",
              "      <td>not_straight</td>\n",
              "    </tr>\n",
              "    <tr>\n",
              "      <th>60</th>\n",
              "      <td>not_straight/374.png</td>\n",
              "      <td>not_straight</td>\n",
              "    </tr>\n",
              "    <tr>\n",
              "      <th>61</th>\n",
              "      <td>not_straight/418.png</td>\n",
              "      <td>not_straight</td>\n",
              "    </tr>\n",
              "    <tr>\n",
              "      <th>62</th>\n",
              "      <td>not_straight/419.png</td>\n",
              "      <td>not_straight</td>\n",
              "    </tr>\n",
              "    <tr>\n",
              "      <th>63</th>\n",
              "      <td>not_straight/420.png</td>\n",
              "      <td>not_straight</td>\n",
              "    </tr>\n",
              "    <tr>\n",
              "      <th>64</th>\n",
              "      <td>not_straight/421.png</td>\n",
              "      <td>not_straight</td>\n",
              "    </tr>\n",
              "    <tr>\n",
              "      <th>65</th>\n",
              "      <td>not_straight/422.png</td>\n",
              "      <td>not_straight</td>\n",
              "    </tr>\n",
              "    <tr>\n",
              "      <th>66</th>\n",
              "      <td>not_straight/519.png</td>\n",
              "      <td>not_straight</td>\n",
              "    </tr>\n",
              "    <tr>\n",
              "      <th>67</th>\n",
              "      <td>not_straight/520.png</td>\n",
              "      <td>not_straight</td>\n",
              "    </tr>\n",
              "    <tr>\n",
              "      <th>68</th>\n",
              "      <td>not_straight/521.png</td>\n",
              "      <td>not_straight</td>\n",
              "    </tr>\n",
              "    <tr>\n",
              "      <th>69</th>\n",
              "      <td>not_straight/522.png</td>\n",
              "      <td>not_straight</td>\n",
              "    </tr>\n",
              "    <tr>\n",
              "      <th>70</th>\n",
              "      <td>not_straight/523.png</td>\n",
              "      <td>not_straight</td>\n",
              "    </tr>\n",
              "    <tr>\n",
              "      <th>71</th>\n",
              "      <td>not_straight/524.png</td>\n",
              "      <td>not_straight</td>\n",
              "    </tr>\n",
              "    <tr>\n",
              "      <th>72</th>\n",
              "      <td>not_straight/525.png</td>\n",
              "      <td>not_straight</td>\n",
              "    </tr>\n",
              "    <tr>\n",
              "      <th>73</th>\n",
              "      <td>not_straight/529.png</td>\n",
              "      <td>not_straight</td>\n",
              "    </tr>\n",
              "    <tr>\n",
              "      <th>74</th>\n",
              "      <td>not_straight/936.png</td>\n",
              "      <td>not_straight</td>\n",
              "    </tr>\n",
              "    <tr>\n",
              "      <th>75</th>\n",
              "      <td>not_straight/937.png</td>\n",
              "      <td>not_straight</td>\n",
              "    </tr>\n",
              "    <tr>\n",
              "      <th>76</th>\n",
              "      <td>not_straight/939.png</td>\n",
              "      <td>not_straight</td>\n",
              "    </tr>\n",
              "    <tr>\n",
              "      <th>77</th>\n",
              "      <td>not_straight/940.png</td>\n",
              "      <td>not_straight</td>\n",
              "    </tr>\n",
              "    <tr>\n",
              "      <th>78</th>\n",
              "      <td>not_straight/985.png</td>\n",
              "      <td>not_straight</td>\n",
              "    </tr>\n",
              "    <tr>\n",
              "      <th>79</th>\n",
              "      <td>not_straight/986.png</td>\n",
              "      <td>not_straight</td>\n",
              "    </tr>\n",
              "    <tr>\n",
              "      <th>80</th>\n",
              "      <td>right/1029.png</td>\n",
              "      <td>right</td>\n",
              "    </tr>\n",
              "    <tr>\n",
              "      <th>81</th>\n",
              "      <td>right/1030.png</td>\n",
              "      <td>right</td>\n",
              "    </tr>\n",
              "    <tr>\n",
              "      <th>82</th>\n",
              "      <td>right/1031.png</td>\n",
              "      <td>right</td>\n",
              "    </tr>\n",
              "    <tr>\n",
              "      <th>83</th>\n",
              "      <td>right/1032.png</td>\n",
              "      <td>right</td>\n",
              "    </tr>\n",
              "    <tr>\n",
              "      <th>84</th>\n",
              "      <td>right/1037.png</td>\n",
              "      <td>right</td>\n",
              "    </tr>\n",
              "    <tr>\n",
              "      <th>85</th>\n",
              "      <td>right/1172.png</td>\n",
              "      <td>right</td>\n",
              "    </tr>\n",
              "    <tr>\n",
              "      <th>86</th>\n",
              "      <td>right/1173.png</td>\n",
              "      <td>right</td>\n",
              "    </tr>\n",
              "    <tr>\n",
              "      <th>87</th>\n",
              "      <td>right/1174.png</td>\n",
              "      <td>right</td>\n",
              "    </tr>\n",
              "    <tr>\n",
              "      <th>88</th>\n",
              "      <td>right/194.png</td>\n",
              "      <td>right</td>\n",
              "    </tr>\n",
              "    <tr>\n",
              "      <th>89</th>\n",
              "      <td>right/195.png</td>\n",
              "      <td>right</td>\n",
              "    </tr>\n",
              "    <tr>\n",
              "      <th>90</th>\n",
              "      <td>right/196.png</td>\n",
              "      <td>right</td>\n",
              "    </tr>\n",
              "    <tr>\n",
              "      <th>91</th>\n",
              "      <td>right/197.png</td>\n",
              "      <td>right</td>\n",
              "    </tr>\n",
              "    <tr>\n",
              "      <th>92</th>\n",
              "      <td>right/201.png</td>\n",
              "      <td>right</td>\n",
              "    </tr>\n",
              "    <tr>\n",
              "      <th>93</th>\n",
              "      <td>right/202.png</td>\n",
              "      <td>right</td>\n",
              "    </tr>\n",
              "    <tr>\n",
              "      <th>94</th>\n",
              "      <td>right/203.png</td>\n",
              "      <td>right</td>\n",
              "    </tr>\n",
              "    <tr>\n",
              "      <th>95</th>\n",
              "      <td>right/260.png</td>\n",
              "      <td>right</td>\n",
              "    </tr>\n",
              "    <tr>\n",
              "      <th>96</th>\n",
              "      <td>right/261.png</td>\n",
              "      <td>right</td>\n",
              "    </tr>\n",
              "    <tr>\n",
              "      <th>97</th>\n",
              "      <td>right/262.png</td>\n",
              "      <td>right</td>\n",
              "    </tr>\n",
              "    <tr>\n",
              "      <th>98</th>\n",
              "      <td>right/372.png</td>\n",
              "      <td>right</td>\n",
              "    </tr>\n",
              "    <tr>\n",
              "      <th>99</th>\n",
              "      <td>right/373.png</td>\n",
              "      <td>right</td>\n",
              "    </tr>\n",
              "    <tr>\n",
              "      <th>100</th>\n",
              "      <td>right/374.png</td>\n",
              "      <td>right</td>\n",
              "    </tr>\n",
              "    <tr>\n",
              "      <th>101</th>\n",
              "      <td>right/418.png</td>\n",
              "      <td>right</td>\n",
              "    </tr>\n",
              "    <tr>\n",
              "      <th>102</th>\n",
              "      <td>right/419.png</td>\n",
              "      <td>right</td>\n",
              "    </tr>\n",
              "    <tr>\n",
              "      <th>103</th>\n",
              "      <td>right/420.png</td>\n",
              "      <td>right</td>\n",
              "    </tr>\n",
              "    <tr>\n",
              "      <th>104</th>\n",
              "      <td>right/421.png</td>\n",
              "      <td>right</td>\n",
              "    </tr>\n",
              "    <tr>\n",
              "      <th>105</th>\n",
              "      <td>right/422.png</td>\n",
              "      <td>right</td>\n",
              "    </tr>\n",
              "    <tr>\n",
              "      <th>106</th>\n",
              "      <td>right/519.png</td>\n",
              "      <td>right</td>\n",
              "    </tr>\n",
              "    <tr>\n",
              "      <th>107</th>\n",
              "      <td>right/520.png</td>\n",
              "      <td>right</td>\n",
              "    </tr>\n",
              "    <tr>\n",
              "      <th>108</th>\n",
              "      <td>right/521.png</td>\n",
              "      <td>right</td>\n",
              "    </tr>\n",
              "    <tr>\n",
              "      <th>109</th>\n",
              "      <td>right/522.png</td>\n",
              "      <td>right</td>\n",
              "    </tr>\n",
              "    <tr>\n",
              "      <th>110</th>\n",
              "      <td>right/523.png</td>\n",
              "      <td>right</td>\n",
              "    </tr>\n",
              "    <tr>\n",
              "      <th>111</th>\n",
              "      <td>right/524.png</td>\n",
              "      <td>left</td>\n",
              "    </tr>\n",
              "    <tr>\n",
              "      <th>112</th>\n",
              "      <td>right/525.png</td>\n",
              "      <td>right</td>\n",
              "    </tr>\n",
              "    <tr>\n",
              "      <th>113</th>\n",
              "      <td>right/529.png</td>\n",
              "      <td>right</td>\n",
              "    </tr>\n",
              "    <tr>\n",
              "      <th>114</th>\n",
              "      <td>right/936.png</td>\n",
              "      <td>right</td>\n",
              "    </tr>\n",
              "    <tr>\n",
              "      <th>115</th>\n",
              "      <td>right/937.png</td>\n",
              "      <td>right</td>\n",
              "    </tr>\n",
              "    <tr>\n",
              "      <th>116</th>\n",
              "      <td>right/939.png</td>\n",
              "      <td>right</td>\n",
              "    </tr>\n",
              "    <tr>\n",
              "      <th>117</th>\n",
              "      <td>right/940.png</td>\n",
              "      <td>right</td>\n",
              "    </tr>\n",
              "    <tr>\n",
              "      <th>118</th>\n",
              "      <td>right/985.png</td>\n",
              "      <td>right</td>\n",
              "    </tr>\n",
              "    <tr>\n",
              "      <th>119</th>\n",
              "      <td>right/986.png</td>\n",
              "      <td>right</td>\n",
              "    </tr>\n",
              "    <tr>\n",
              "      <th>120</th>\n",
              "      <td>straight/1029.png</td>\n",
              "      <td>straight</td>\n",
              "    </tr>\n",
              "    <tr>\n",
              "      <th>121</th>\n",
              "      <td>straight/1030.png</td>\n",
              "      <td>straight</td>\n",
              "    </tr>\n",
              "    <tr>\n",
              "      <th>122</th>\n",
              "      <td>straight/1031.png</td>\n",
              "      <td>straight</td>\n",
              "    </tr>\n",
              "    <tr>\n",
              "      <th>123</th>\n",
              "      <td>straight/1032.png</td>\n",
              "      <td>straight</td>\n",
              "    </tr>\n",
              "    <tr>\n",
              "      <th>124</th>\n",
              "      <td>straight/1037.png</td>\n",
              "      <td>straight</td>\n",
              "    </tr>\n",
              "    <tr>\n",
              "      <th>125</th>\n",
              "      <td>straight/1172.png</td>\n",
              "      <td>straight</td>\n",
              "    </tr>\n",
              "    <tr>\n",
              "      <th>126</th>\n",
              "      <td>straight/1173.png</td>\n",
              "      <td>straight</td>\n",
              "    </tr>\n",
              "    <tr>\n",
              "      <th>127</th>\n",
              "      <td>straight/1174.png</td>\n",
              "      <td>straight</td>\n",
              "    </tr>\n",
              "    <tr>\n",
              "      <th>128</th>\n",
              "      <td>straight/194.png</td>\n",
              "      <td>straight</td>\n",
              "    </tr>\n",
              "    <tr>\n",
              "      <th>129</th>\n",
              "      <td>straight/195.png</td>\n",
              "      <td>straight</td>\n",
              "    </tr>\n",
              "    <tr>\n",
              "      <th>130</th>\n",
              "      <td>straight/196.png</td>\n",
              "      <td>straight</td>\n",
              "    </tr>\n",
              "    <tr>\n",
              "      <th>131</th>\n",
              "      <td>straight/197.png</td>\n",
              "      <td>straight</td>\n",
              "    </tr>\n",
              "    <tr>\n",
              "      <th>132</th>\n",
              "      <td>straight/201.png</td>\n",
              "      <td>straight</td>\n",
              "    </tr>\n",
              "    <tr>\n",
              "      <th>133</th>\n",
              "      <td>straight/202.png</td>\n",
              "      <td>straight</td>\n",
              "    </tr>\n",
              "    <tr>\n",
              "      <th>134</th>\n",
              "      <td>straight/203.png</td>\n",
              "      <td>straight</td>\n",
              "    </tr>\n",
              "    <tr>\n",
              "      <th>135</th>\n",
              "      <td>straight/260.png</td>\n",
              "      <td>straight</td>\n",
              "    </tr>\n",
              "    <tr>\n",
              "      <th>136</th>\n",
              "      <td>straight/261.png</td>\n",
              "      <td>straight</td>\n",
              "    </tr>\n",
              "    <tr>\n",
              "      <th>137</th>\n",
              "      <td>straight/262.png</td>\n",
              "      <td>straight</td>\n",
              "    </tr>\n",
              "    <tr>\n",
              "      <th>138</th>\n",
              "      <td>straight/372.png</td>\n",
              "      <td>straight</td>\n",
              "    </tr>\n",
              "    <tr>\n",
              "      <th>139</th>\n",
              "      <td>straight/373.png</td>\n",
              "      <td>straight</td>\n",
              "    </tr>\n",
              "    <tr>\n",
              "      <th>140</th>\n",
              "      <td>straight/374.png</td>\n",
              "      <td>straight</td>\n",
              "    </tr>\n",
              "    <tr>\n",
              "      <th>141</th>\n",
              "      <td>straight/418.png</td>\n",
              "      <td>straight</td>\n",
              "    </tr>\n",
              "    <tr>\n",
              "      <th>142</th>\n",
              "      <td>straight/419.png</td>\n",
              "      <td>straight</td>\n",
              "    </tr>\n",
              "    <tr>\n",
              "      <th>143</th>\n",
              "      <td>straight/420.png</td>\n",
              "      <td>straight</td>\n",
              "    </tr>\n",
              "    <tr>\n",
              "      <th>144</th>\n",
              "      <td>straight/421.png</td>\n",
              "      <td>straight</td>\n",
              "    </tr>\n",
              "    <tr>\n",
              "      <th>145</th>\n",
              "      <td>straight/422.png</td>\n",
              "      <td>straight</td>\n",
              "    </tr>\n",
              "    <tr>\n",
              "      <th>146</th>\n",
              "      <td>straight/519.png</td>\n",
              "      <td>straight</td>\n",
              "    </tr>\n",
              "    <tr>\n",
              "      <th>147</th>\n",
              "      <td>straight/520.png</td>\n",
              "      <td>straight</td>\n",
              "    </tr>\n",
              "    <tr>\n",
              "      <th>148</th>\n",
              "      <td>straight/521.png</td>\n",
              "      <td>straight</td>\n",
              "    </tr>\n",
              "    <tr>\n",
              "      <th>149</th>\n",
              "      <td>straight/522.png</td>\n",
              "      <td>straight</td>\n",
              "    </tr>\n",
              "    <tr>\n",
              "      <th>150</th>\n",
              "      <td>straight/523.png</td>\n",
              "      <td>straight</td>\n",
              "    </tr>\n",
              "    <tr>\n",
              "      <th>151</th>\n",
              "      <td>straight/524.png</td>\n",
              "      <td>straight</td>\n",
              "    </tr>\n",
              "    <tr>\n",
              "      <th>152</th>\n",
              "      <td>straight/525.png</td>\n",
              "      <td>straight</td>\n",
              "    </tr>\n",
              "    <tr>\n",
              "      <th>153</th>\n",
              "      <td>straight/529.png</td>\n",
              "      <td>straight</td>\n",
              "    </tr>\n",
              "    <tr>\n",
              "      <th>154</th>\n",
              "      <td>straight/936.png</td>\n",
              "      <td>straight</td>\n",
              "    </tr>\n",
              "    <tr>\n",
              "      <th>155</th>\n",
              "      <td>straight/937.png</td>\n",
              "      <td>straight</td>\n",
              "    </tr>\n",
              "    <tr>\n",
              "      <th>156</th>\n",
              "      <td>straight/939.png</td>\n",
              "      <td>straight</td>\n",
              "    </tr>\n",
              "    <tr>\n",
              "      <th>157</th>\n",
              "      <td>straight/940.png</td>\n",
              "      <td>straight</td>\n",
              "    </tr>\n",
              "    <tr>\n",
              "      <th>158</th>\n",
              "      <td>straight/985.png</td>\n",
              "      <td>straight</td>\n",
              "    </tr>\n",
              "    <tr>\n",
              "      <th>159</th>\n",
              "      <td>straight/986.png</td>\n",
              "      <td>straight</td>\n",
              "    </tr>\n",
              "  </tbody>\n",
              "</table>\n",
              "</div>"
            ],
            "text/plain": [
              "                  Filename   Predictions\n",
              "0            left/1029.png          left\n",
              "1            left/1030.png          left\n",
              "2            left/1031.png          left\n",
              "3            left/1032.png          left\n",
              "4            left/1037.png          left\n",
              "5            left/1172.png          left\n",
              "6            left/1173.png          left\n",
              "7            left/1174.png          left\n",
              "8             left/194.png          left\n",
              "9             left/195.png          left\n",
              "10            left/196.png          left\n",
              "11            left/197.png          left\n",
              "12            left/201.png          left\n",
              "13            left/202.png          left\n",
              "14            left/203.png          left\n",
              "15            left/260.png          left\n",
              "16            left/261.png          left\n",
              "17            left/262.png          left\n",
              "18            left/372.png          left\n",
              "19            left/373.png          left\n",
              "20            left/374.png          left\n",
              "21            left/418.png          left\n",
              "22            left/419.png          left\n",
              "23            left/420.png          left\n",
              "24            left/421.png          left\n",
              "25            left/422.png          left\n",
              "26            left/519.png          left\n",
              "27            left/520.png          left\n",
              "28            left/521.png          left\n",
              "29            left/522.png          left\n",
              "30            left/523.png          left\n",
              "31            left/524.png          left\n",
              "32            left/525.png          left\n",
              "33            left/529.png          left\n",
              "34            left/936.png          left\n",
              "35            left/937.png          left\n",
              "36            left/939.png          left\n",
              "37            left/940.png          left\n",
              "38            left/985.png          left\n",
              "39            left/986.png          left\n",
              "40   not_straight/1029.png  not_straight\n",
              "41   not_straight/1030.png  not_straight\n",
              "42   not_straight/1031.png  not_straight\n",
              "43   not_straight/1032.png  not_straight\n",
              "44   not_straight/1037.png  not_straight\n",
              "45   not_straight/1172.png  not_straight\n",
              "46   not_straight/1173.png  not_straight\n",
              "47   not_straight/1174.png  not_straight\n",
              "48    not_straight/194.png  not_straight\n",
              "49    not_straight/195.png  not_straight\n",
              "50    not_straight/196.png  not_straight\n",
              "51    not_straight/197.png      straight\n",
              "52    not_straight/201.png  not_straight\n",
              "53    not_straight/202.png  not_straight\n",
              "54    not_straight/203.png  not_straight\n",
              "55    not_straight/260.png  not_straight\n",
              "56    not_straight/261.png  not_straight\n",
              "57    not_straight/262.png  not_straight\n",
              "58    not_straight/372.png  not_straight\n",
              "59    not_straight/373.png  not_straight\n",
              "60    not_straight/374.png  not_straight\n",
              "61    not_straight/418.png  not_straight\n",
              "62    not_straight/419.png  not_straight\n",
              "63    not_straight/420.png  not_straight\n",
              "64    not_straight/421.png  not_straight\n",
              "65    not_straight/422.png  not_straight\n",
              "66    not_straight/519.png  not_straight\n",
              "67    not_straight/520.png  not_straight\n",
              "68    not_straight/521.png  not_straight\n",
              "69    not_straight/522.png  not_straight\n",
              "70    not_straight/523.png  not_straight\n",
              "71    not_straight/524.png  not_straight\n",
              "72    not_straight/525.png  not_straight\n",
              "73    not_straight/529.png  not_straight\n",
              "74    not_straight/936.png  not_straight\n",
              "75    not_straight/937.png  not_straight\n",
              "76    not_straight/939.png  not_straight\n",
              "77    not_straight/940.png  not_straight\n",
              "78    not_straight/985.png  not_straight\n",
              "79    not_straight/986.png  not_straight\n",
              "80          right/1029.png         right\n",
              "81          right/1030.png         right\n",
              "82          right/1031.png         right\n",
              "83          right/1032.png         right\n",
              "84          right/1037.png         right\n",
              "85          right/1172.png         right\n",
              "86          right/1173.png         right\n",
              "87          right/1174.png         right\n",
              "88           right/194.png         right\n",
              "89           right/195.png         right\n",
              "90           right/196.png         right\n",
              "91           right/197.png         right\n",
              "92           right/201.png         right\n",
              "93           right/202.png         right\n",
              "94           right/203.png         right\n",
              "95           right/260.png         right\n",
              "96           right/261.png         right\n",
              "97           right/262.png         right\n",
              "98           right/372.png         right\n",
              "99           right/373.png         right\n",
              "100          right/374.png         right\n",
              "101          right/418.png         right\n",
              "102          right/419.png         right\n",
              "103          right/420.png         right\n",
              "104          right/421.png         right\n",
              "105          right/422.png         right\n",
              "106          right/519.png         right\n",
              "107          right/520.png         right\n",
              "108          right/521.png         right\n",
              "109          right/522.png         right\n",
              "110          right/523.png         right\n",
              "111          right/524.png          left\n",
              "112          right/525.png         right\n",
              "113          right/529.png         right\n",
              "114          right/936.png         right\n",
              "115          right/937.png         right\n",
              "116          right/939.png         right\n",
              "117          right/940.png         right\n",
              "118          right/985.png         right\n",
              "119          right/986.png         right\n",
              "120      straight/1029.png      straight\n",
              "121      straight/1030.png      straight\n",
              "122      straight/1031.png      straight\n",
              "123      straight/1032.png      straight\n",
              "124      straight/1037.png      straight\n",
              "125      straight/1172.png      straight\n",
              "126      straight/1173.png      straight\n",
              "127      straight/1174.png      straight\n",
              "128       straight/194.png      straight\n",
              "129       straight/195.png      straight\n",
              "130       straight/196.png      straight\n",
              "131       straight/197.png      straight\n",
              "132       straight/201.png      straight\n",
              "133       straight/202.png      straight\n",
              "134       straight/203.png      straight\n",
              "135       straight/260.png      straight\n",
              "136       straight/261.png      straight\n",
              "137       straight/262.png      straight\n",
              "138       straight/372.png      straight\n",
              "139       straight/373.png      straight\n",
              "140       straight/374.png      straight\n",
              "141       straight/418.png      straight\n",
              "142       straight/419.png      straight\n",
              "143       straight/420.png      straight\n",
              "144       straight/421.png      straight\n",
              "145       straight/422.png      straight\n",
              "146       straight/519.png      straight\n",
              "147       straight/520.png      straight\n",
              "148       straight/521.png      straight\n",
              "149       straight/522.png      straight\n",
              "150       straight/523.png      straight\n",
              "151       straight/524.png      straight\n",
              "152       straight/525.png      straight\n",
              "153       straight/529.png      straight\n",
              "154       straight/936.png      straight\n",
              "155       straight/937.png      straight\n",
              "156       straight/939.png      straight\n",
              "157       straight/940.png      straight\n",
              "158       straight/985.png      straight\n",
              "159       straight/986.png      straight"
            ]
          },
          "metadata": {
            "tags": []
          },
          "execution_count": 54
        }
      ]
    },
    {
      "cell_type": "code",
      "metadata": {
        "id": "UKusC_eNsNed",
        "colab_type": "code",
        "outputId": "7435c244-baea-40e1-b47d-2f7151577177",
        "colab": {
          "base_uri": "https://localhost:8080/",
          "height": 34
        }
      },
      "source": [
        "print(fit_history.history.keys())"
      ],
      "execution_count": 0,
      "outputs": [
        {
          "output_type": "stream",
          "text": [
            "dict_keys(['val_loss', 'val_accuracy', 'loss', 'accuracy'])\n"
          ],
          "name": "stdout"
        }
      ]
    },
    {
      "cell_type": "code",
      "metadata": {
        "id": "isKQ20bUorH5",
        "colab_type": "code",
        "outputId": "11e5872b-675c-40c9-fec0-d0eef38589b6",
        "colab": {
          "base_uri": "https://localhost:8080/",
          "height": 276
        }
      },
      "source": [
        " plt.figure(1, figsize = (15,8)) \n",
        "    \n",
        "plt.subplot(221)  \n",
        "plt.plot(fit_history.history['accuracy'])  \n",
        "plt.plot(fit_history.history['val_accuracy'])  \n",
        "plt.title('model accuracy')  \n",
        "plt.ylabel('accuracy')  \n",
        "plt.xlabel('epoch')  \n",
        "plt.legend(['train', 'valid']) \n",
        "    \n",
        "plt.subplot(222)  \n",
        "plt.plot(fit_history.history['loss'])  \n",
        "plt.plot(fit_history.history['val_loss'])  \n",
        "plt.title('model loss')  \n",
        "plt.ylabel('loss')  \n",
        "plt.xlabel('epoch')  \n",
        "plt.legend(['train', 'valid']) \n",
        "\n",
        "\n",
        "\n",
        "plt.show()"
      ],
      "execution_count": 0,
      "outputs": [
        {
          "output_type": "display_data",
          "data": {
            "image/png": "[encoded data removed]",
            "text/plain": [
              "<Figure size 1080x576 with 2 Axes>"
            ]
          },
          "metadata": {
            "tags": [],
            "needs_background": "light"
          }
        }
      ]
    },
    {
      "cell_type": "code",
      "metadata": {
        "id": "AqOyAEKTUQbw",
        "colab_type": "code",
        "outputId": "aa3b00c5-589e-48c8-c115-e14878f623a3",
        "colab": {
          "base_uri": "https://localhost:8080/",
          "height": 276
        }
      },
      "source": [
        " plt.figure(1, figsize = (15,8)) \n",
        "    \n",
        "plt.subplot(221)  \n",
        "plt.plot(fit_history.history['accuracy'])  \n",
        "plt.plot(fit_history.history['val_accuracy'])  \n",
        "plt.title('model accuracy')  \n",
        "plt.ylabel('accuracy')  \n",
        "plt.xlabel('epoch')  \n",
        "plt.legend(['train', 'valid']) \n",
        "    \n",
        "plt.subplot(222)  \n",
        "plt.plot(fit_history.history['loss'])  \n",
        "plt.plot(fit_history.history['val_loss'])  \n",
        "plt.title('model loss')  \n",
        "plt.ylabel('loss')  \n",
        "plt.xlabel('epoch')  \n",
        "plt.legend(['train', 'valid']) \n",
        "\n",
        "\n",
        "\n",
        "plt.show()"
      ],
      "execution_count": 0,
      "outputs": [
        {
          "output_type": "display_data",
          "data": {
            "image/png": "[encoded data removed]",
            "text/plain": [
              "<Figure size 1080x576 with 2 Axes>"
            ]
          },
          "metadata": {
            "tags": [],
            "needs_background": "light"
          }
        }
      ]
    },
    {
      "cell_type": "code",
      "metadata": {
        "id": "9QHLhWtPQly1",
        "colab_type": "code",
        "colab": {}
      },
      "source": [
        "mkdir model"
      ],
      "execution_count": 0,
      "outputs": []
    },
    {
      "cell_type": "code",
      "metadata": {
        "id": "-lrSEy2i5Wxi",
        "colab_type": "code",
        "colab": {}
      },
      "source": [
        ""
      ],
      "execution_count": 0,
      "outputs": []
    },
    {
      "cell_type": "code",
      "metadata": {
        "id": "BoFwND-gr2NV",
        "colab_type": "code",
        "outputId": "a7abc553-616e-4d41-9691-3ad5c114e401",
        "colab": {
          "base_uri": "https://localhost:8080/",
          "height": 34
        }
      },
      "source": [
        "# serialize model to JSON\n",
        "model_json = model.to_json()\n",
        "with open(\"model/model.json\", \"w\") as json_file:\n",
        "    json_file.write(model_json)\n",
        "# serialize weights to HDF5\n",
        "model.save_weights(\"model/model.h5\")\n",
        "print(\"Saved model to disk\")"
      ],
      "execution_count": 0,
      "outputs": [
        {
          "output_type": "stream",
          "text": [
            "Saved model to disk\n"
          ],
          "name": "stdout"
        }
      ]
    },
    {
      "cell_type": "markdown",
      "metadata": {
        "id": "JaLZr06x5Yon",
        "colab_type": "text"
      },
      "source": [
        "#load model"
      ]
    },
    {
      "cell_type": "code",
      "metadata": {
        "id": "q-uE6UsdQMlr",
        "colab_type": "code",
        "colab": {}
      },
      "source": [
        "# load json and create model\n",
        "from keras.models import model_from_json\n",
        "\n",
        "def load_model():\n",
        "\n",
        "  json_file = open('model/model.json', 'r')\n",
        "  loaded_model_json = json_file.read()\n",
        "  json_file.close()\n",
        "  model = model_from_json(loaded_model_json)\n",
        "  # load weights into new model\n",
        "\n",
        "  OBJECTIVE_FUNCTION = 'categorical_crossentropy'\n",
        "\n",
        "  # Common accuracy metric for all outputs, but can use different metrics for different output\n",
        "  LOSS_METRICS = ['accuracy']\n",
        "\n",
        "\n",
        "  model.load_weights(\"model/model.h5\")\n",
        "  print(\"Loaded model from disk\")\n",
        "\n",
        "  sgd = optimizers.SGD(lr = 0.001, decay = 1e-6, momentum = 0.9, nesterov = True)\n",
        "  model.compile(optimizer = sgd, loss = OBJECTIVE_FUNCTION, metrics = LOSS_METRICS)\n",
        "  return model\n"
      ],
      "execution_count": 0,
      "outputs": []
    },
    {
      "cell_type": "code",
      "metadata": {
        "id": "vfmHd_FQXttH",
        "colab_type": "code",
        "colab": {}
      },
      "source": [
        "from keras.preprocessing import image\n",
        "\n",
        "import matplotlib.pyplot as plt\n",
        "import numpy as np\n",
        "\n",
        "\n",
        "def predict_rotation(imagetopredict,model):\n",
        "\n",
        "  img_size = 600\n",
        "  # predicting images\n",
        "  img = image.load_img(imagetopredict, target_size=(img_size, img_size))\n",
        "  x = image.img_to_array(img)\n",
        "\n",
        "  x = np.expand_dims(x, axis=0)\n",
        "\n",
        "  x = preprocess_input(x)\n",
        "  classes = model.predict_classes(x)\n",
        "\n",
        "\n",
        "  #0 left\n",
        "  #1 not_straight\n",
        "  #2 right\n",
        "  #3 straight\n",
        "\n",
        "  if(classes[0]==0):\n",
        "    print(\"left\")\n",
        "    return \"left\"\n",
        "  if(classes[0]==1):\n",
        "    print(\"not_straight\")\n",
        "    return \"not_straight\"\n",
        "  if(classes[0]==2):\n",
        "    print(\"right\")\n",
        "    return \"right\"\n",
        "  if(classes[0]==3):\n",
        "    print(\"straight\")\n",
        "    return \"straight\""
      ],
      "execution_count": 0,
      "outputs": []
    },
    {
      "cell_type": "code",
      "metadata": {
        "id": "kG1RnRvTIMB6",
        "colab_type": "code",
        "colab": {}
      },
      "source": [
        "ls train/straight"
      ],
      "execution_count": 0,
      "outputs": []
    },
    {
      "cell_type": "code",
      "metadata": {
        "id": "_wlaOiUf6LGd",
        "colab_type": "code",
        "outputId": "0d7f8948-c8b7-4573-868c-be87b22f1bdf",
        "colab": {
          "base_uri": "https://localhost:8080/",
          "height": 102
        }
      },
      "source": [
        "# model=load_model()\n",
        "\n",
        "imagetopredict1=\"train/right/1000.png\"\n",
        "imagetopredict2=\"train/straight/1000.png\"\n",
        "imagetopredict3=\"train/left/1000.png\"\n",
        "imagetopredict4=\"train/not_straight/1000.png\"\n",
        "\n",
        "predict_rotation(imagetopredict1,model)\n",
        "\n",
        "predict_rotation(imagetopredict2,model)\n",
        "\n",
        "predict_rotation(imagetopredict3,model)\n",
        "\n",
        "predict_rotation(imagetopredict4,model)\n",
        "\n",
        "print(\"prediction done\")\n"
      ],
      "execution_count": 0,
      "outputs": [
        {
          "output_type": "stream",
          "text": [
            "right\n",
            "straight\n",
            "left\n",
            "not_straight\n",
            "prediction done\n"
          ],
          "name": "stdout"
        }
      ]
    },
    {
      "cell_type": "code",
      "metadata": {
        "id": "kSQJcDkZImyj",
        "colab_type": "code",
        "colab": {}
      },
      "source": [
        ""
      ],
      "execution_count": 0,
      "outputs": []
    }
  ]
}